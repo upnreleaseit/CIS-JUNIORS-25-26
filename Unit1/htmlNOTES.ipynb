{
 "cells": [
  {
   "cell_type": "markdown",
   "id": "74f889cb",
   "metadata": {},
   "source": [
    "# Introduction to HTML"
   ]
  },
  {
   "cell_type": "markdown",
   "id": "e366ba76",
   "metadata": {},
   "source": [
    "## HTML Defined \n",
    "\n",
    "**HTML** - Hypertext Markup Language - This is the language used to describe your content\n",
    "\n",
    "**CSS** - Cascading Style Sheets - This is the language used to design the way your content looks on the web.\n",
    "\n",
    "**JavaScript** - NOT to be confused with Java - JS is the language used for adding Interactivity to the web pages.\n",
    "\n",
    "### These are the 3 main web languages"
   ]
  },
  {
   "cell_type": "markdown",
   "id": "94e958b3",
   "metadata": {},
   "source": [
    "### Web Browsers \n",
    "\n",
    "* Software used for browsing, reading, and translating web documents\n",
    "* Examples of web browsers:\n",
    "    * Google Chrome\n",
    "    * Firefox\n",
    "    * Microsoft Edge\n",
    "    * Opera GX \n",
    "    * Duck Duck Go \n",
    "    * Sifari\n",
    "    * Brave \n",
    "    * Internet Explorer (MS) - Depricated \n",
    "    * Netscape - Depricated \n",
    "* Why you do not use old or UN-Updated browsers \n",
    "    * Security - security updates "
   ]
  },
  {
   "cell_type": "markdown",
   "id": "8afdc1d9",
   "metadata": {},
   "source": [
    "### HTML Skeleton/Structure\n",
    "\n",
    "#### See index.html\n",
    "\n",
    "### Structure of a HTML Tag:\n",
    " \n",
    "<meta charset=\"UTF-8\">\n",
    "\n",
    "* Tag name\n",
    "* Attributes(s)\n",
    "* Attribute Values\n"
   ]
  },
  {
   "cell_type": "markdown",
   "id": "3d56dfb1",
   "metadata": {},
   "source": []
  },
  {
   "cell_type": "markdown",
   "id": "78b89ad0",
   "metadata": {},
   "source": [
    "### Key Concepts of HTML\n",
    "\n",
    "* Most HTML Tags have a opening and closing Tag\n",
    "* HTML Element - These are created by a complete pair of tags with content\n",
    "* Attributes - additional information about the elements\n",
    "\n",
    "#### Essential HTML Elements:\n",
    "\n",
    "* < h1 >< /h1 > through < h6 >< /h6 > - headings, H1 is the largest by default H6 is the smallest \n",
    "* < P > </ p > - paragraphs element\n",
    "* < br > - Line Break "
   ]
  },
  {
   "cell_type": "markdown",
   "id": "4bd3840f",
   "metadata": {},
   "source": []
  }
 ],
 "metadata": {
  "language_info": {
   "name": "python"
  }
 },
 "nbformat": 4,
 "nbformat_minor": 5
}
